{
 "cells": [
  {
   "cell_type": "markdown",
   "metadata": {
    "toc": true
   },
   "source": [
    "<h1>Table of Contents<span class=\"tocSkip\"></span></h1>\n",
    "<div class=\"toc\"><ul class=\"toc-item\"><li><span><a href=\"#Personal-Loan-Dataset\" data-toc-modified-id=\"Personal-Loan-Dataset-1\"><span class=\"toc-item-num\">1&nbsp;&nbsp;</span>Personal Loan Dataset</a></span><ul class=\"toc-item\"><li><ul class=\"toc-item\"><li><span><a href=\"#The-classification-goal-is-to-predict-if-the-client-will-subscribe-(yes/no)-a-term-deposit-(variable-y).\" data-toc-modified-id=\"The-classification-goal-is-to-predict-if-the-client-will-subscribe-(yes/no)-a-term-deposit-(variable-y).-1.0.1\"><span class=\"toc-item-num\">1.0.1&nbsp;&nbsp;</span>The classification goal is to predict if the client will subscribe (yes/no) a term deposit (variable y).</a></span></li></ul></li></ul></li><li><span><a href=\"#Load-the-libraries\" data-toc-modified-id=\"Load-the-libraries-2\"><span class=\"toc-item-num\">2&nbsp;&nbsp;</span>Load the libraries</a></span></li><li><span><a href=\"#Load-Data\" data-toc-modified-id=\"Load-Data-3\"><span class=\"toc-item-num\">3&nbsp;&nbsp;</span>Load Data</a></span></li><li><span><a href=\"#Exploratory-Data-Analysis\" data-toc-modified-id=\"Exploratory-Data-Analysis-4\"><span class=\"toc-item-num\">4&nbsp;&nbsp;</span>Exploratory Data Analysis</a></span><ul class=\"toc-item\"><li><span><a href=\"#Function-to-prepare-data\" data-toc-modified-id=\"Function-to-prepare-data-4.1\"><span class=\"toc-item-num\">4.1&nbsp;&nbsp;</span>Function to prepare data</a></span></li><li><span><a href=\"#Function-to-pre-process-data\" data-toc-modified-id=\"Function-to-pre-process-data-4.2\"><span class=\"toc-item-num\">4.2&nbsp;&nbsp;</span>Function to pre-process data</a></span></li></ul></li><li><span><a href=\"#Build-Knn-Model\" data-toc-modified-id=\"Build-Knn-Model-5\"><span class=\"toc-item-num\">5&nbsp;&nbsp;</span>Build Knn Model</a></span><ul class=\"toc-item\"><li><span><a href=\"#Function-for-Model-Fit-&amp;-Predict\" data-toc-modified-id=\"Function-for-Model-Fit-&amp;-Predict-5.1\"><span class=\"toc-item-num\">5.1&nbsp;&nbsp;</span>Function for Model Fit &amp; Predict</a></span></li><li><span><a href=\"#Function-to-Evaluate-Model\" data-toc-modified-id=\"Function-to-Evaluate-Model-5.2\"><span class=\"toc-item-num\">5.2&nbsp;&nbsp;</span>Function to Evaluate Model</a></span></li></ul></li><li><span><a href=\"#Build-Knn-Model\" data-toc-modified-id=\"Build-Knn-Model-6\"><span class=\"toc-item-num\">6&nbsp;&nbsp;</span>Build Knn Model</a></span><ul class=\"toc-item\"><li><span><a href=\"#Edited-Knn\" data-toc-modified-id=\"Edited-Knn-6.1\"><span class=\"toc-item-num\">6.1&nbsp;&nbsp;</span>Edited Knn</a></span></li><li><span><a href=\"#Condensed-Knn\" data-toc-modified-id=\"Condensed-Knn-6.2\"><span class=\"toc-item-num\">6.2&nbsp;&nbsp;</span>Condensed Knn</a></span></li></ul></li><li><span><a href=\"#Choosing-the-best-K-using-Elbow-Curve\" data-toc-modified-id=\"Choosing-the-best-K-using-Elbow-Curve-7\"><span class=\"toc-item-num\">7&nbsp;&nbsp;</span>Choosing the best K using Elbow Curve</a></span></li><li><span><a href=\"#Knn-Classifier-with-Grid-Search-Crossvalidation\" data-toc-modified-id=\"Knn-Classifier-with-Grid-Search-Crossvalidation-8\"><span class=\"toc-item-num\">8&nbsp;&nbsp;</span>Knn Classifier with Grid Search Crossvalidation</a></span></li></ul></div>"
   ]
  },
  {
   "cell_type": "markdown",
   "metadata": {},
   "source": [
    "## Personal Loan Dataset\n",
    "\n",
    "We will use [Personal Loan Dataset](https://www.kaggle.com/itsmesunil/bank-loan-modelling). This case is about a bank (Thera Bank) which has a growing customer base. The department wants to build a model that will help them identify the potential customers who have a higher probability of purchasing the loan. This will increase the success ratio while at the same time reduce the cost of the campaign.\n",
    "\n",
    "| Feature | Description |\n",
    "| --- | --- |\n",
    "| ID | Customer ID |\n",
    "| Age | Customer's age in completed year |\n",
    "| Experience | # years of professional experience |\n",
    "| Income | Annual income of the customer (1,000) |\n",
    "| ZIPcode | Home address ZIP code |\n",
    "| Family | Family size of the customer |\n",
    "| CCAvg | Average monthly credit card spending (1, 000) |\n",
    "| Education | Education level: 1: undergrad; 2, Graduate; 3; Advance/Professional |\n",
    "| Mortgage | Value of house mortgage if any (1, 000) |\n",
    "| Securities Acct | Does the customer have a securities account with the bank? |\n",
    "| CD Account | Does the customer have a certifcate of deposit (CD) account with the bank? |\n",
    "| Online | Does the customer use internet bank facilities? |\n",
    "| CreditCard | Does the customer use a credit card issued by the Bank? |\n",
    "| Personal loan | Did this customer accept the personal loan offered in he last campaign? 1, yes; 0, no (target variable) | \n",
    "\n",
    "#### The classification goal is to predict if the client will subscribe (yes/no) a term deposit (variable y).\n",
    "\n",
    "___"
   ]
  },
  {
   "cell_type": "markdown",
   "metadata": {},
   "source": [
    "## Load the libraries"
   ]
  },
  {
   "cell_type": "code",
   "execution_count": 1,
   "metadata": {
    "ExecuteTime": {
     "end_time": "2019-10-20T11:25:40.303672Z",
     "start_time": "2019-10-20T11:25:39.304470Z"
    }
   },
   "outputs": [],
   "source": [
    "import pandas as pd\n",
    "\n",
    "import warnings\n",
    "warnings.filterwarnings('ignore')"
   ]
  },
  {
   "cell_type": "markdown",
   "metadata": {},
   "source": [
    "## Load Data"
   ]
  },
  {
   "cell_type": "code",
   "execution_count": 2,
   "metadata": {
    "ExecuteTime": {
     "end_time": "2019-10-20T11:25:40.345890Z",
     "start_time": "2019-10-20T11:25:40.306307Z"
    }
   },
   "outputs": [
    {
     "data": {
      "text/plain": [
       "(5000, 14)"
      ]
     },
     "execution_count": 2,
     "metadata": {},
     "output_type": "execute_result"
    }
   ],
   "source": [
    "bank = pd.read_csv(\"UnivBank.csv\")\n",
    "\n",
    "bank.shape"
   ]
  },
  {
   "cell_type": "markdown",
   "metadata": {},
   "source": [
    "There are a total of 5,000 customers in the data set and 14 variables. "
   ]
  },
  {
   "cell_type": "markdown",
   "metadata": {},
   "source": [
    "## Exploratory Data Analysis\n",
    "\n",
    "Let us take a look at a portion of the data."
   ]
  },
  {
   "cell_type": "code",
   "execution_count": 3,
   "metadata": {
    "ExecuteTime": {
     "end_time": "2019-10-20T11:25:40.371613Z",
     "start_time": "2019-10-20T11:25:40.348469Z"
    },
    "scrolled": true
   },
   "outputs": [
    {
     "data": {
      "text/html": [
       "<div>\n",
       "<style scoped>\n",
       "    .dataframe tbody tr th:only-of-type {\n",
       "        vertical-align: middle;\n",
       "    }\n",
       "\n",
       "    .dataframe tbody tr th {\n",
       "        vertical-align: top;\n",
       "    }\n",
       "\n",
       "    .dataframe thead th {\n",
       "        text-align: right;\n",
       "    }\n",
       "</style>\n",
       "<table border=\"1\" class=\"dataframe\">\n",
       "  <thead>\n",
       "    <tr style=\"text-align: right;\">\n",
       "      <th></th>\n",
       "      <th>ID</th>\n",
       "      <th>Age</th>\n",
       "      <th>Experience</th>\n",
       "      <th>Income</th>\n",
       "      <th>ZIP Code</th>\n",
       "      <th>Family</th>\n",
       "      <th>CCAvg</th>\n",
       "      <th>Education</th>\n",
       "      <th>Mortgage</th>\n",
       "      <th>Personal Loan</th>\n",
       "      <th>Securities Account</th>\n",
       "      <th>CD Account</th>\n",
       "      <th>Online</th>\n",
       "      <th>CreditCard</th>\n",
       "    </tr>\n",
       "  </thead>\n",
       "  <tbody>\n",
       "    <tr>\n",
       "      <th>0</th>\n",
       "      <td>1</td>\n",
       "      <td>25</td>\n",
       "      <td>1</td>\n",
       "      <td>49</td>\n",
       "      <td>91107</td>\n",
       "      <td>4</td>\n",
       "      <td>1.6</td>\n",
       "      <td>1</td>\n",
       "      <td>0</td>\n",
       "      <td>0</td>\n",
       "      <td>1.0</td>\n",
       "      <td>0</td>\n",
       "      <td>0</td>\n",
       "      <td>0</td>\n",
       "    </tr>\n",
       "    <tr>\n",
       "      <th>1</th>\n",
       "      <td>2</td>\n",
       "      <td>45</td>\n",
       "      <td>19</td>\n",
       "      <td>34</td>\n",
       "      <td>90089</td>\n",
       "      <td>3</td>\n",
       "      <td>1.5</td>\n",
       "      <td>1</td>\n",
       "      <td>0</td>\n",
       "      <td>0</td>\n",
       "      <td>1.0</td>\n",
       "      <td>0</td>\n",
       "      <td>0</td>\n",
       "      <td>0</td>\n",
       "    </tr>\n",
       "    <tr>\n",
       "      <th>2</th>\n",
       "      <td>3</td>\n",
       "      <td>39</td>\n",
       "      <td>15</td>\n",
       "      <td>11</td>\n",
       "      <td>94720</td>\n",
       "      <td>1</td>\n",
       "      <td>1.0</td>\n",
       "      <td>1</td>\n",
       "      <td>0</td>\n",
       "      <td>0</td>\n",
       "      <td>0.0</td>\n",
       "      <td>0</td>\n",
       "      <td>0</td>\n",
       "      <td>0</td>\n",
       "    </tr>\n",
       "    <tr>\n",
       "      <th>3</th>\n",
       "      <td>4</td>\n",
       "      <td>35</td>\n",
       "      <td>9</td>\n",
       "      <td>100</td>\n",
       "      <td>94112</td>\n",
       "      <td>1</td>\n",
       "      <td>2.7</td>\n",
       "      <td>2</td>\n",
       "      <td>0</td>\n",
       "      <td>0</td>\n",
       "      <td>0.0</td>\n",
       "      <td>#</td>\n",
       "      <td>0</td>\n",
       "      <td>0</td>\n",
       "    </tr>\n",
       "    <tr>\n",
       "      <th>4</th>\n",
       "      <td>5</td>\n",
       "      <td>35</td>\n",
       "      <td>8</td>\n",
       "      <td>45</td>\n",
       "      <td>91330</td>\n",
       "      <td>4</td>\n",
       "      <td>1.0</td>\n",
       "      <td>2</td>\n",
       "      <td>0</td>\n",
       "      <td>0</td>\n",
       "      <td>0.0</td>\n",
       "      <td>0</td>\n",
       "      <td>0</td>\n",
       "      <td>1</td>\n",
       "    </tr>\n",
       "  </tbody>\n",
       "</table>\n",
       "</div>"
      ],
      "text/plain": [
       "   ID  Age  Experience  Income  ZIP Code  Family  CCAvg  Education Mortgage  \\\n",
       "0   1   25           1      49     91107       4    1.6          1        0   \n",
       "1   2   45          19      34     90089       3    1.5          1        0   \n",
       "2   3   39          15      11     94720       1    1.0          1        0   \n",
       "3   4   35           9     100     94112       1    2.7          2        0   \n",
       "4   5   35           8      45     91330       4    1.0          2        0   \n",
       "\n",
       "   Personal Loan  Securities Account CD Account  Online  CreditCard  \n",
       "0              0                 1.0          0       0           0  \n",
       "1              0                 1.0          0       0           0  \n",
       "2              0                 0.0          0       0           0  \n",
       "3              0                 0.0          #       0           0  \n",
       "4              0                 0.0          0       0           1  "
      ]
     },
     "execution_count": 3,
     "metadata": {},
     "output_type": "execute_result"
    }
   ],
   "source": [
    "bank.head(5)"
   ]
  },
  {
   "cell_type": "markdown",
   "metadata": {},
   "source": [
    "We can figure that following columns are categorical type.\n",
    "\n",
    "- Family ( ORDINAL )\n",
    "- Education ( NOMINAL )\n",
    "- Personal Loan `target column`\n",
    "- Securities Account ( NOMINAL )\n",
    "- CD Account ( NOMINAL )\n",
    "- Online ( NOMINAL )\n",
    "- Credit Card ( NOMINAL )\n",
    "\n",
    "Let us check if all columns are in appropriate data format."
   ]
  },
  {
   "cell_type": "code",
   "execution_count": 4,
   "metadata": {
    "ExecuteTime": {
     "end_time": "2019-10-20T11:25:40.392788Z",
     "start_time": "2019-10-20T11:25:40.375809Z"
    },
    "scrolled": true
   },
   "outputs": [
    {
     "data": {
      "text/plain": [
       "ID                      int64\n",
       "Age                     int64\n",
       "Experience              int64\n",
       "Income                  int64\n",
       "ZIP Code                int64\n",
       "Family                  int64\n",
       "CCAvg                 float64\n",
       "Education               int64\n",
       "Mortgage               object\n",
       "Personal Loan           int64\n",
       "Securities Account    float64\n",
       "CD Account             object\n",
       "Online                  int64\n",
       "CreditCard              int64\n",
       "dtype: object"
      ]
     },
     "execution_count": 4,
     "metadata": {},
     "output_type": "execute_result"
    }
   ],
   "source": [
    "bank.dtypes"
   ]
  },
  {
   "cell_type": "markdown",
   "metadata": {},
   "source": [
    "<div class=\"alert alert-block alert-info\"><b> \n",
    "    \n",
    "- All nominal variables should be converted to category type. \n",
    "- Mortgage and CD Account should be float but pandas read it as object. This means there are some string type values.\n",
    "</b></div>    \n",
    "\n",
    "Let us verify which string values are present in these column."
   ]
  },
  {
   "cell_type": "code",
   "execution_count": 5,
   "metadata": {
    "ExecuteTime": {
     "end_time": "2019-10-20T11:25:40.509376Z",
     "start_time": "2019-10-20T11:25:40.398702Z"
    }
   },
   "outputs": [
    {
     "name": "stdout",
     "output_type": "stream",
     "text": [
      "\n",
      " Mortgage  ----->>\n",
      "12 ?\n",
      "19 ?\n",
      "\n",
      " CD Account  ----->>\n",
      "3 #\n"
     ]
    }
   ],
   "source": [
    "for col in ['Mortgage' , 'CD Account'] :\n",
    "    print('\\n', col, ' ----->>')\n",
    "    for index in range(0, len(bank)):\n",
    "        try :\n",
    "            skip = float(bank.loc[index, col])\n",
    "        except ValueError :\n",
    "            print(index, bank.loc[index, col])"
   ]
  },
  {
   "cell_type": "markdown",
   "metadata": {},
   "source": [
    "As we can see all these string values are spaces. Let us read the data again and instruct pandas to read space as NA. "
   ]
  },
  {
   "cell_type": "code",
   "execution_count": 6,
   "metadata": {
    "ExecuteTime": {
     "end_time": "2019-10-20T11:25:40.531938Z",
     "start_time": "2019-10-20T11:25:40.511899Z"
    }
   },
   "outputs": [
    {
     "data": {
      "text/plain": [
       "ID                      int64\n",
       "Age                     int64\n",
       "Experience              int64\n",
       "Income                  int64\n",
       "ZIP Code                int64\n",
       "Family                  int64\n",
       "CCAvg                 float64\n",
       "Education               int64\n",
       "Mortgage              float64\n",
       "Personal Loan           int64\n",
       "Securities Account    float64\n",
       "CD Account            float64\n",
       "Online                  int64\n",
       "CreditCard              int64\n",
       "dtype: object"
      ]
     },
     "execution_count": 6,
     "metadata": {},
     "output_type": "execute_result"
    }
   ],
   "source": [
    "bank = pd.read_csv('UnivBank.csv', na_values = ['?', '#'])\n",
    "bank.dtypes"
   ]
  },
  {
   "cell_type": "markdown",
   "metadata": {},
   "source": [
    "Now, Mortgage and CD Account is correctly read as float.\n",
    "\n",
    "<div class=\"alert alert-block alert-info\"><b> \n",
    "\n",
    "- We will check if ID is unique then we will convert it to row index.\n",
    "</b></div>    "
   ]
  },
  {
   "cell_type": "code",
   "execution_count": 7,
   "metadata": {
    "ExecuteTime": {
     "end_time": "2019-10-20T11:25:40.553008Z",
     "start_time": "2019-10-20T11:25:40.536990Z"
    }
   },
   "outputs": [
    {
     "data": {
      "text/plain": [
       "5000"
      ]
     },
     "execution_count": 7,
     "metadata": {},
     "output_type": "execute_result"
    }
   ],
   "source": [
    "bank.ID.nunique()"
   ]
  },
  {
   "cell_type": "code",
   "execution_count": 8,
   "metadata": {
    "ExecuteTime": {
     "end_time": "2019-10-20T11:25:40.568945Z",
     "start_time": "2019-10-20T11:25:40.557520Z"
    }
   },
   "outputs": [],
   "source": [
    "bank.set_index('ID', inplace = True)"
   ]
  },
  {
   "cell_type": "markdown",
   "metadata": {},
   "source": [
    "Let us seperate our numerical and categorical attributes."
   ]
  },
  {
   "cell_type": "code",
   "execution_count": 9,
   "metadata": {
    "ExecuteTime": {
     "end_time": "2019-10-20T11:25:40.594984Z",
     "start_time": "2019-10-20T11:25:40.579993Z"
    },
    "scrolled": true
   },
   "outputs": [
    {
     "name": "stdout",
     "output_type": "stream",
     "text": [
      "Index(['Age', 'Experience', 'Income', 'ZIP Code', 'Family', 'CCAvg',\n",
      "       'Mortgage', 'Personal Loan'],\n",
      "      dtype='object')\n"
     ]
    },
    {
     "data": {
      "text/plain": [
       "Index(['Age', 'Experience', 'Income', 'ZIP Code', 'Family', 'CCAvg',\n",
       "       'Mortgage'],\n",
       "      dtype='object')"
      ]
     },
     "execution_count": 9,
     "metadata": {},
     "output_type": "execute_result"
    }
   ],
   "source": [
    "cat_cols = ['Education', 'Securities Account', 'CD Account', 'Online', 'CreditCard']\n",
    "\n",
    "num_cols = bank.columns[~bank.columns.isin(cat_cols)]\n",
    "\n",
    "print(num_cols)\n",
    "num_cols = num_cols.delete(-1)\n",
    "num_cols"
   ]
  },
  {
   "cell_type": "markdown",
   "metadata": {},
   "source": [
    "We shall check there are no invalid values in any of the categorical variables."
   ]
  },
  {
   "cell_type": "code",
   "execution_count": 10,
   "metadata": {
    "ExecuteTime": {
     "end_time": "2019-10-20T11:25:40.612210Z",
     "start_time": "2019-10-20T11:25:40.598396Z"
    },
    "scrolled": true
   },
   "outputs": [
    {
     "name": "stdout",
     "output_type": "stream",
     "text": [
      "Education ----->> [1 2 3] \n",
      "\n",
      "Securities Account ----->> [ 1.  0. nan] \n",
      "\n",
      "CD Account ----->> [ 0. nan  1.] \n",
      "\n",
      "Online ----->> [0 1] \n",
      "\n",
      "CreditCard ----->> [0 1] \n",
      "\n"
     ]
    }
   ],
   "source": [
    "for x in cat_cols :\n",
    "    print(x, '----->>', bank[x].unique(), '\\n')"
   ]
  },
  {
   "cell_type": "code",
   "execution_count": 11,
   "metadata": {
    "ExecuteTime": {
     "end_time": "2019-10-20T11:25:40.684733Z",
     "start_time": "2019-10-20T11:25:40.615328Z"
    }
   },
   "outputs": [
    {
     "data": {
      "text/html": [
       "<div>\n",
       "<style scoped>\n",
       "    .dataframe tbody tr th:only-of-type {\n",
       "        vertical-align: middle;\n",
       "    }\n",
       "\n",
       "    .dataframe tbody tr th {\n",
       "        vertical-align: top;\n",
       "    }\n",
       "\n",
       "    .dataframe thead th {\n",
       "        text-align: right;\n",
       "    }\n",
       "</style>\n",
       "<table border=\"1\" class=\"dataframe\">\n",
       "  <thead>\n",
       "    <tr style=\"text-align: right;\">\n",
       "      <th></th>\n",
       "      <th>Age</th>\n",
       "      <th>Experience</th>\n",
       "      <th>Income</th>\n",
       "      <th>ZIP Code</th>\n",
       "      <th>Family</th>\n",
       "      <th>CCAvg</th>\n",
       "      <th>Mortgage</th>\n",
       "    </tr>\n",
       "  </thead>\n",
       "  <tbody>\n",
       "    <tr>\n",
       "      <th>count</th>\n",
       "      <td>5000.000000</td>\n",
       "      <td>5000.000000</td>\n",
       "      <td>5000.000000</td>\n",
       "      <td>5000.000000</td>\n",
       "      <td>5000.000000</td>\n",
       "      <td>5000.000000</td>\n",
       "      <td>4998.000000</td>\n",
       "    </tr>\n",
       "    <tr>\n",
       "      <th>mean</th>\n",
       "      <td>45.338400</td>\n",
       "      <td>20.104600</td>\n",
       "      <td>73.774200</td>\n",
       "      <td>93152.503000</td>\n",
       "      <td>2.396400</td>\n",
       "      <td>1.937938</td>\n",
       "      <td>56.521409</td>\n",
       "    </tr>\n",
       "    <tr>\n",
       "      <th>std</th>\n",
       "      <td>11.463166</td>\n",
       "      <td>11.467954</td>\n",
       "      <td>46.033729</td>\n",
       "      <td>2121.852197</td>\n",
       "      <td>1.147663</td>\n",
       "      <td>1.747659</td>\n",
       "      <td>101.727873</td>\n",
       "    </tr>\n",
       "    <tr>\n",
       "      <th>min</th>\n",
       "      <td>23.000000</td>\n",
       "      <td>-3.000000</td>\n",
       "      <td>8.000000</td>\n",
       "      <td>9307.000000</td>\n",
       "      <td>1.000000</td>\n",
       "      <td>0.000000</td>\n",
       "      <td>0.000000</td>\n",
       "    </tr>\n",
       "    <tr>\n",
       "      <th>25%</th>\n",
       "      <td>35.000000</td>\n",
       "      <td>10.000000</td>\n",
       "      <td>39.000000</td>\n",
       "      <td>91911.000000</td>\n",
       "      <td>1.000000</td>\n",
       "      <td>0.700000</td>\n",
       "      <td>0.000000</td>\n",
       "    </tr>\n",
       "    <tr>\n",
       "      <th>50%</th>\n",
       "      <td>45.000000</td>\n",
       "      <td>20.000000</td>\n",
       "      <td>64.000000</td>\n",
       "      <td>93437.000000</td>\n",
       "      <td>2.000000</td>\n",
       "      <td>1.500000</td>\n",
       "      <td>0.000000</td>\n",
       "    </tr>\n",
       "    <tr>\n",
       "      <th>75%</th>\n",
       "      <td>55.000000</td>\n",
       "      <td>30.000000</td>\n",
       "      <td>98.000000</td>\n",
       "      <td>94608.000000</td>\n",
       "      <td>3.000000</td>\n",
       "      <td>2.500000</td>\n",
       "      <td>101.000000</td>\n",
       "    </tr>\n",
       "    <tr>\n",
       "      <th>max</th>\n",
       "      <td>67.000000</td>\n",
       "      <td>43.000000</td>\n",
       "      <td>224.000000</td>\n",
       "      <td>96651.000000</td>\n",
       "      <td>4.000000</td>\n",
       "      <td>10.000000</td>\n",
       "      <td>635.000000</td>\n",
       "    </tr>\n",
       "  </tbody>\n",
       "</table>\n",
       "</div>"
      ],
      "text/plain": [
       "               Age   Experience       Income      ZIP Code       Family  \\\n",
       "count  5000.000000  5000.000000  5000.000000   5000.000000  5000.000000   \n",
       "mean     45.338400    20.104600    73.774200  93152.503000     2.396400   \n",
       "std      11.463166    11.467954    46.033729   2121.852197     1.147663   \n",
       "min      23.000000    -3.000000     8.000000   9307.000000     1.000000   \n",
       "25%      35.000000    10.000000    39.000000  91911.000000     1.000000   \n",
       "50%      45.000000    20.000000    64.000000  93437.000000     2.000000   \n",
       "75%      55.000000    30.000000    98.000000  94608.000000     3.000000   \n",
       "max      67.000000    43.000000   224.000000  96651.000000     4.000000   \n",
       "\n",
       "             CCAvg     Mortgage  \n",
       "count  5000.000000  4998.000000  \n",
       "mean      1.937938    56.521409  \n",
       "std       1.747659   101.727873  \n",
       "min       0.000000     0.000000  \n",
       "25%       0.700000     0.000000  \n",
       "50%       1.500000     0.000000  \n",
       "75%       2.500000   101.000000  \n",
       "max      10.000000   635.000000  "
      ]
     },
     "execution_count": 11,
     "metadata": {},
     "output_type": "execute_result"
    }
   ],
   "source": [
    "bank[num_cols].describe()"
   ]
  },
  {
   "cell_type": "markdown",
   "metadata": {},
   "source": [
    "<div class=\"alert alert-block alert-info\"><b> \n",
    "\n",
    "- Experience cannot be negative.\n",
    "</b></div>    \n",
    "\n",
    "Let us see how many observations have negative experience."
   ]
  },
  {
   "cell_type": "code",
   "execution_count": 12,
   "metadata": {
    "ExecuteTime": {
     "end_time": "2019-10-20T11:25:40.699990Z",
     "start_time": "2019-10-20T11:25:40.687122Z"
    }
   },
   "outputs": [
    {
     "data": {
      "text/plain": [
       "(52, 13)"
      ]
     },
     "execution_count": 12,
     "metadata": {},
     "output_type": "execute_result"
    }
   ],
   "source": [
    "bank[bank.Experience < 0].shape"
   ]
  },
  {
   "cell_type": "markdown",
   "metadata": {},
   "source": [
    "There are 52 observations with experience less than 0."
   ]
  },
  {
   "cell_type": "code",
   "execution_count": 13,
   "metadata": {
    "ExecuteTime": {
     "end_time": "2019-10-20T11:25:40.722858Z",
     "start_time": "2019-10-20T11:25:40.702270Z"
    }
   },
   "outputs": [
    {
     "data": {
      "text/plain": [
       "Age  Experience\n",
       "23   -3             2\n",
       "     -2             4\n",
       "     -1             6\n",
       "24   -3             2\n",
       "     -2             9\n",
       "     -1             6\n",
       "25   -2             1\n",
       "     -1            17\n",
       "26   -1             1\n",
       "28   -2             1\n",
       "29   -1             3\n",
       "Name: Personal Loan, dtype: int64"
      ]
     },
     "execution_count": 13,
     "metadata": {},
     "output_type": "execute_result"
    }
   ],
   "source": [
    "bank[bank.Experience < 0].groupby(['Age', 'Experience']).count()['Personal Loan']"
   ]
  },
  {
   "cell_type": "markdown",
   "metadata": {},
   "source": [
    "Based on the Age-Experience break up, we can see that there is no way to understand these values.\n",
    "\n",
    "- Experience -1 is assigned for each of these Age level.\n",
    "\n",
    "We can check if everyone below Age 30 has negatice experience value."
   ]
  },
  {
   "cell_type": "code",
   "execution_count": 14,
   "metadata": {
    "ExecuteTime": {
     "end_time": "2019-10-20T11:25:40.739113Z",
     "start_time": "2019-10-20T11:25:40.725853Z"
    },
    "scrolled": true
   },
   "outputs": [
    {
     "data": {
      "text/plain": [
       "(436, 13)"
      ]
     },
     "execution_count": 14,
     "metadata": {},
     "output_type": "execute_result"
    }
   ],
   "source": [
    "bank[(bank.Experience >= 0) & (bank.Age < 30)].shape"
   ]
  },
  {
   "cell_type": "markdown",
   "metadata": {},
   "source": [
    "There are 436 observation where customers with Age less than 30 have negative experience. \n",
    "\n",
    "Let us plot the relationship between average experience w.r.t Age."
   ]
  },
  {
   "cell_type": "code",
   "execution_count": 15,
   "metadata": {
    "ExecuteTime": {
     "end_time": "2019-10-20T11:25:42.099986Z",
     "start_time": "2019-10-20T11:25:40.745605Z"
    }
   },
   "outputs": [
    {
     "data": {
      "text/plain": [
       "<Figure size 500x500 with 1 Axes>"
      ]
     },
     "metadata": {},
     "output_type": "display_data"
    }
   ],
   "source": [
    "import seaborn as sns\n",
    "import matplotlib.pyplot as plt\n",
    "\n",
    "df = pd.DataFrame(bank.groupby(\"Age\").mean()[\"Experience\"]).reset_index()\n",
    "\n",
    "sns.lmplot(x = 'Age', y = 'Experience', data=df)\n",
    "plt.ylabel(\"Experience(Mean)\")\n",
    "plt.title(\"Mean Experience by Age\")\n",
    "plt.show()"
   ]
  },
  {
   "cell_type": "markdown",
   "metadata": {},
   "source": [
    "- We see a very linear plot. \n",
    "- Also, we have 3 specific values [-1, -2, -3] and not just any random values.\n",
    "\n",
    "The experience value doesn't look random. \n",
    "\n",
    "> In such situations, it is critical to reach the client and ask for clarification.\n",
    "\n",
    "We will change these values for now as we don't see them to be invalid."
   ]
  },
  {
   "cell_type": "markdown",
   "metadata": {},
   "source": [
    "Let us check for number of NA values."
   ]
  },
  {
   "cell_type": "code",
   "execution_count": 16,
   "metadata": {
    "ExecuteTime": {
     "end_time": "2019-10-20T11:25:42.117584Z",
     "start_time": "2019-10-20T11:25:42.103455Z"
    },
    "scrolled": true
   },
   "outputs": [
    {
     "data": {
      "text/plain": [
       "Age                   0\n",
       "Experience            0\n",
       "Income                0\n",
       "ZIP Code              0\n",
       "Family                0\n",
       "CCAvg                 0\n",
       "Education             0\n",
       "Mortgage              2\n",
       "Personal Loan         0\n",
       "Securities Account    2\n",
       "CD Account            1\n",
       "Online                0\n",
       "CreditCard            0\n",
       "dtype: int64"
      ]
     },
     "execution_count": 16,
     "metadata": {},
     "output_type": "execute_result"
    }
   ],
   "source": [
    "bank.isnull().sum()"
   ]
  },
  {
   "cell_type": "markdown",
   "metadata": {},
   "source": [
    "<div class=\"alert alert-block alert-info\"><b> \n",
    "    \n",
    "- As there are only 4 NA value, we can impute them with the mean / mode value .\n",
    "\n",
    "</b></div>\n",
    "\n",
    "We will seperate our independent variables and target variable."
   ]
  },
  {
   "cell_type": "code",
   "execution_count": 17,
   "metadata": {
    "ExecuteTime": {
     "end_time": "2019-10-20T11:25:42.139956Z",
     "start_time": "2019-10-20T11:25:42.121493Z"
    }
   },
   "outputs": [],
   "source": [
    "X = bank.drop('Personal Loan', axis = 1)\n",
    "\n",
    "y = bank[\"Personal Loan\"]"
   ]
  },
  {
   "cell_type": "markdown",
   "metadata": {},
   "source": [
    "### Function to prepare data\n",
    "\n",
    "We will write a function to prepare data for following functions.\n",
    "\n",
    "- Train and Test Split\n",
    "- Fit the Imputer on Train Data\n",
    "- Fit the Scaler on Train Data"
   ]
  },
  {
   "cell_type": "code",
   "execution_count": 18,
   "metadata": {
    "ExecuteTime": {
     "end_time": "2019-10-20T11:25:43.218881Z",
     "start_time": "2019-10-20T11:25:42.147531Z"
    }
   },
   "outputs": [],
   "source": [
    "from sklearn.model_selection import train_test_split\n",
    "from sklearn.impute import SimpleImputer\n",
    "from sklearn.preprocessing import StandardScaler\n",
    "\n",
    "num_imputer = SimpleImputer()\n",
    "cat_imputer = SimpleImputer(strategy = 'most_frequent')\n",
    "num_scaler = StandardScaler()"
   ]
  },
  {
   "cell_type": "code",
   "execution_count": 19,
   "metadata": {
    "ExecuteTime": {
     "end_time": "2019-10-20T11:25:43.225646Z",
     "start_time": "2019-10-20T11:25:43.221003Z"
    }
   },
   "outputs": [],
   "source": [
    "def prepare_data(X, y, split_size = 0.3) :\n",
    "    \n",
    "    X_train, X_test, y_train, y_test = train_test_split(X, \n",
    "                                                        y, test_size = split_size)  \n",
    "    \n",
    "    num_imputer.fit(X_train[num_cols])\n",
    "    cat_imputer.fit(X_train[cat_cols])\n",
    "    num_scaler.fit(X_train[num_cols])\n",
    "    \n",
    "    return X_train, X_test, y_train, y_test"
   ]
  },
  {
   "cell_type": "code",
   "execution_count": 20,
   "metadata": {
    "ExecuteTime": {
     "end_time": "2019-10-20T11:25:43.258707Z",
     "start_time": "2019-10-20T11:25:43.233151Z"
    }
   },
   "outputs": [],
   "source": [
    "X_train, X_test, y_train, y_test = prepare_data(X, y, 0.2)"
   ]
  },
  {
   "cell_type": "code",
   "execution_count": 21,
   "metadata": {
    "ExecuteTime": {
     "end_time": "2019-10-20T11:25:43.269301Z",
     "start_time": "2019-10-20T11:25:43.261771Z"
    },
    "scrolled": true
   },
   "outputs": [
    {
     "name": "stdout",
     "output_type": "stream",
     "text": [
      "(4000, 12)\n",
      "(1000, 12)\n"
     ]
    }
   ],
   "source": [
    "print(X_train.shape)\n",
    "print(X_test.shape)"
   ]
  },
  {
   "cell_type": "markdown",
   "metadata": {},
   "source": [
    "### Function to pre-process data\n",
    "\n",
    "We will write a function to pre-process data for following functions. This function will be called to transform both train and test datasets.\n",
    "\n",
    "- Impute the numerical and categorical features\n",
    "- Scale the numerical features\n",
    "- Dummify the categorical features\n",
    "\n",
    "We are adding an argument for scale so that we can choose whether to scale or not."
   ]
  },
  {
   "cell_type": "code",
   "execution_count": 22,
   "metadata": {
    "ExecuteTime": {
     "end_time": "2019-10-20T11:25:43.296078Z",
     "start_time": "2019-10-20T11:25:43.275926Z"
    }
   },
   "outputs": [],
   "source": [
    "def preprocess_data(data, scale = False) :\n",
    "    \n",
    "    data[num_cols] = num_imputer.transform(data[num_cols])\n",
    "    data[cat_cols] = cat_imputer.transform(data[cat_cols])\n",
    "    \n",
    "    if scale == True :\n",
    "        data[num_cols] = num_scaler.transform(data[num_cols])\n",
    "    \n",
    "    data[cat_cols] = data[cat_cols].astype('category')\n",
    "    data = pd.get_dummies(data, drop_first = True)\n",
    "\n",
    "    return data"
   ]
  },
  {
   "cell_type": "code",
   "execution_count": 23,
   "metadata": {
    "ExecuteTime": {
     "end_time": "2019-10-20T11:25:44.390086Z",
     "start_time": "2019-10-20T11:25:43.309241Z"
    }
   },
   "outputs": [
    {
     "data": {
      "text/html": [
       "<div>\n",
       "<style scoped>\n",
       "    .dataframe tbody tr th:only-of-type {\n",
       "        vertical-align: middle;\n",
       "    }\n",
       "\n",
       "    .dataframe tbody tr th {\n",
       "        vertical-align: top;\n",
       "    }\n",
       "\n",
       "    .dataframe thead th {\n",
       "        text-align: right;\n",
       "    }\n",
       "</style>\n",
       "<table border=\"1\" class=\"dataframe\">\n",
       "  <thead>\n",
       "    <tr style=\"text-align: right;\">\n",
       "      <th></th>\n",
       "      <th>Age</th>\n",
       "      <th>Experience</th>\n",
       "      <th>Income</th>\n",
       "      <th>ZIP Code</th>\n",
       "      <th>Family</th>\n",
       "      <th>CCAvg</th>\n",
       "      <th>Mortgage</th>\n",
       "      <th>Education_2.0</th>\n",
       "      <th>Education_3.0</th>\n",
       "      <th>Securities Account_1.0</th>\n",
       "      <th>CD Account_1.0</th>\n",
       "      <th>Online_1.0</th>\n",
       "      <th>CreditCard_1.0</th>\n",
       "    </tr>\n",
       "    <tr>\n",
       "      <th>ID</th>\n",
       "      <th></th>\n",
       "      <th></th>\n",
       "      <th></th>\n",
       "      <th></th>\n",
       "      <th></th>\n",
       "      <th></th>\n",
       "      <th></th>\n",
       "      <th></th>\n",
       "      <th></th>\n",
       "      <th></th>\n",
       "      <th></th>\n",
       "      <th></th>\n",
       "      <th></th>\n",
       "    </tr>\n",
       "  </thead>\n",
       "  <tbody>\n",
       "    <tr>\n",
       "      <th>1030</th>\n",
       "      <td>41.0</td>\n",
       "      <td>17.0</td>\n",
       "      <td>20.0</td>\n",
       "      <td>94720.0</td>\n",
       "      <td>1.0</td>\n",
       "      <td>1.40</td>\n",
       "      <td>0.0</td>\n",
       "      <td>0</td>\n",
       "      <td>1</td>\n",
       "      <td>0</td>\n",
       "      <td>0</td>\n",
       "      <td>1</td>\n",
       "      <td>0</td>\n",
       "    </tr>\n",
       "    <tr>\n",
       "      <th>3104</th>\n",
       "      <td>52.0</td>\n",
       "      <td>22.0</td>\n",
       "      <td>55.0</td>\n",
       "      <td>92129.0</td>\n",
       "      <td>3.0</td>\n",
       "      <td>1.40</td>\n",
       "      <td>0.0</td>\n",
       "      <td>0</td>\n",
       "      <td>1</td>\n",
       "      <td>0</td>\n",
       "      <td>0</td>\n",
       "      <td>1</td>\n",
       "      <td>0</td>\n",
       "    </tr>\n",
       "    <tr>\n",
       "      <th>2957</th>\n",
       "      <td>62.0</td>\n",
       "      <td>38.0</td>\n",
       "      <td>195.0</td>\n",
       "      <td>91125.0</td>\n",
       "      <td>4.0</td>\n",
       "      <td>5.20</td>\n",
       "      <td>522.0</td>\n",
       "      <td>0</td>\n",
       "      <td>1</td>\n",
       "      <td>0</td>\n",
       "      <td>1</td>\n",
       "      <td>1</td>\n",
       "      <td>1</td>\n",
       "    </tr>\n",
       "    <tr>\n",
       "      <th>4655</th>\n",
       "      <td>44.0</td>\n",
       "      <td>17.0</td>\n",
       "      <td>69.0</td>\n",
       "      <td>90095.0</td>\n",
       "      <td>3.0</td>\n",
       "      <td>2.67</td>\n",
       "      <td>0.0</td>\n",
       "      <td>1</td>\n",
       "      <td>0</td>\n",
       "      <td>0</td>\n",
       "      <td>0</td>\n",
       "      <td>0</td>\n",
       "      <td>0</td>\n",
       "    </tr>\n",
       "    <tr>\n",
       "      <th>1166</th>\n",
       "      <td>43.0</td>\n",
       "      <td>19.0</td>\n",
       "      <td>113.0</td>\n",
       "      <td>91203.0</td>\n",
       "      <td>1.0</td>\n",
       "      <td>1.70</td>\n",
       "      <td>0.0</td>\n",
       "      <td>0</td>\n",
       "      <td>0</td>\n",
       "      <td>0</td>\n",
       "      <td>0</td>\n",
       "      <td>0</td>\n",
       "      <td>0</td>\n",
       "    </tr>\n",
       "  </tbody>\n",
       "</table>\n",
       "</div>"
      ],
      "text/plain": [
       "       Age  Experience  Income  ZIP Code  Family  CCAvg  Mortgage  \\\n",
       "ID                                                                  \n",
       "1030  41.0        17.0    20.0   94720.0     1.0   1.40       0.0   \n",
       "3104  52.0        22.0    55.0   92129.0     3.0   1.40       0.0   \n",
       "2957  62.0        38.0   195.0   91125.0     4.0   5.20     522.0   \n",
       "4655  44.0        17.0    69.0   90095.0     3.0   2.67       0.0   \n",
       "1166  43.0        19.0   113.0   91203.0     1.0   1.70       0.0   \n",
       "\n",
       "      Education_2.0  Education_3.0  Securities Account_1.0  CD Account_1.0  \\\n",
       "ID                                                                           \n",
       "1030              0              1                       0               0   \n",
       "3104              0              1                       0               0   \n",
       "2957              0              1                       0               1   \n",
       "4655              1              0                       0               0   \n",
       "1166              0              0                       0               0   \n",
       "\n",
       "      Online_1.0  CreditCard_1.0  \n",
       "ID                                \n",
       "1030           1               0  \n",
       "3104           1               0  \n",
       "2957           1               1  \n",
       "4655           0               0  \n",
       "1166           0               0  "
      ]
     },
     "execution_count": 23,
     "metadata": {},
     "output_type": "execute_result"
    }
   ],
   "source": [
    "X_train = preprocess_data(X_train)\n",
    "X_train.head()"
   ]
  },
  {
   "cell_type": "code",
   "execution_count": 24,
   "metadata": {
    "ExecuteTime": {
     "end_time": "2019-10-20T11:25:45.265174Z",
     "start_time": "2019-10-20T11:25:44.397727Z"
    }
   },
   "outputs": [
    {
     "data": {
      "text/html": [
       "<div>\n",
       "<style scoped>\n",
       "    .dataframe tbody tr th:only-of-type {\n",
       "        vertical-align: middle;\n",
       "    }\n",
       "\n",
       "    .dataframe tbody tr th {\n",
       "        vertical-align: top;\n",
       "    }\n",
       "\n",
       "    .dataframe thead th {\n",
       "        text-align: right;\n",
       "    }\n",
       "</style>\n",
       "<table border=\"1\" class=\"dataframe\">\n",
       "  <thead>\n",
       "    <tr style=\"text-align: right;\">\n",
       "      <th></th>\n",
       "      <th>Age</th>\n",
       "      <th>Experience</th>\n",
       "      <th>Income</th>\n",
       "      <th>ZIP Code</th>\n",
       "      <th>Family</th>\n",
       "      <th>CCAvg</th>\n",
       "      <th>Mortgage</th>\n",
       "      <th>Education_2.0</th>\n",
       "      <th>Education_3.0</th>\n",
       "      <th>Securities Account_1.0</th>\n",
       "      <th>CD Account_1.0</th>\n",
       "      <th>Online_1.0</th>\n",
       "      <th>CreditCard_1.0</th>\n",
       "    </tr>\n",
       "    <tr>\n",
       "      <th>ID</th>\n",
       "      <th></th>\n",
       "      <th></th>\n",
       "      <th></th>\n",
       "      <th></th>\n",
       "      <th></th>\n",
       "      <th></th>\n",
       "      <th></th>\n",
       "      <th></th>\n",
       "      <th></th>\n",
       "      <th></th>\n",
       "      <th></th>\n",
       "      <th></th>\n",
       "      <th></th>\n",
       "    </tr>\n",
       "  </thead>\n",
       "  <tbody>\n",
       "    <tr>\n",
       "      <th>2834</th>\n",
       "      <td>46.0</td>\n",
       "      <td>22.0</td>\n",
       "      <td>152.0</td>\n",
       "      <td>90009.0</td>\n",
       "      <td>2.0</td>\n",
       "      <td>1.4</td>\n",
       "      <td>0.0</td>\n",
       "      <td>0</td>\n",
       "      <td>0</td>\n",
       "      <td>0</td>\n",
       "      <td>0</td>\n",
       "      <td>1</td>\n",
       "      <td>0</td>\n",
       "    </tr>\n",
       "    <tr>\n",
       "      <th>4273</th>\n",
       "      <td>47.0</td>\n",
       "      <td>22.0</td>\n",
       "      <td>89.0</td>\n",
       "      <td>92647.0</td>\n",
       "      <td>4.0</td>\n",
       "      <td>1.9</td>\n",
       "      <td>0.0</td>\n",
       "      <td>0</td>\n",
       "      <td>1</td>\n",
       "      <td>0</td>\n",
       "      <td>0</td>\n",
       "      <td>1</td>\n",
       "      <td>0</td>\n",
       "    </tr>\n",
       "    <tr>\n",
       "      <th>4666</th>\n",
       "      <td>40.0</td>\n",
       "      <td>16.0</td>\n",
       "      <td>65.0</td>\n",
       "      <td>90095.0</td>\n",
       "      <td>2.0</td>\n",
       "      <td>3.2</td>\n",
       "      <td>0.0</td>\n",
       "      <td>0</td>\n",
       "      <td>0</td>\n",
       "      <td>0</td>\n",
       "      <td>0</td>\n",
       "      <td>1</td>\n",
       "      <td>0</td>\n",
       "    </tr>\n",
       "    <tr>\n",
       "      <th>4253</th>\n",
       "      <td>54.0</td>\n",
       "      <td>29.0</td>\n",
       "      <td>81.0</td>\n",
       "      <td>91107.0</td>\n",
       "      <td>1.0</td>\n",
       "      <td>0.1</td>\n",
       "      <td>0.0</td>\n",
       "      <td>0</td>\n",
       "      <td>1</td>\n",
       "      <td>0</td>\n",
       "      <td>0</td>\n",
       "      <td>0</td>\n",
       "      <td>0</td>\n",
       "    </tr>\n",
       "    <tr>\n",
       "      <th>3518</th>\n",
       "      <td>30.0</td>\n",
       "      <td>6.0</td>\n",
       "      <td>95.0</td>\n",
       "      <td>94234.0</td>\n",
       "      <td>1.0</td>\n",
       "      <td>3.9</td>\n",
       "      <td>146.0</td>\n",
       "      <td>0</td>\n",
       "      <td>1</td>\n",
       "      <td>0</td>\n",
       "      <td>0</td>\n",
       "      <td>0</td>\n",
       "      <td>1</td>\n",
       "    </tr>\n",
       "  </tbody>\n",
       "</table>\n",
       "</div>"
      ],
      "text/plain": [
       "       Age  Experience  Income  ZIP Code  Family  CCAvg  Mortgage  \\\n",
       "ID                                                                  \n",
       "2834  46.0        22.0   152.0   90009.0     2.0    1.4       0.0   \n",
       "4273  47.0        22.0    89.0   92647.0     4.0    1.9       0.0   \n",
       "4666  40.0        16.0    65.0   90095.0     2.0    3.2       0.0   \n",
       "4253  54.0        29.0    81.0   91107.0     1.0    0.1       0.0   \n",
       "3518  30.0         6.0    95.0   94234.0     1.0    3.9     146.0   \n",
       "\n",
       "      Education_2.0  Education_3.0  Securities Account_1.0  CD Account_1.0  \\\n",
       "ID                                                                           \n",
       "2834              0              0                       0               0   \n",
       "4273              0              1                       0               0   \n",
       "4666              0              0                       0               0   \n",
       "4253              0              1                       0               0   \n",
       "3518              0              1                       0               0   \n",
       "\n",
       "      Online_1.0  CreditCard_1.0  \n",
       "ID                                \n",
       "2834           1               0  \n",
       "4273           1               0  \n",
       "4666           1               0  \n",
       "4253           0               0  \n",
       "3518           0               1  "
      ]
     },
     "execution_count": 24,
     "metadata": {},
     "output_type": "execute_result"
    }
   ],
   "source": [
    "X_test = preprocess_data(X_test)\n",
    "X_test.head()"
   ]
  },
  {
   "cell_type": "markdown",
   "metadata": {},
   "source": [
    "## Build Knn Model\n",
    "\n",
    "___"
   ]
  },
  {
   "cell_type": "markdown",
   "metadata": {},
   "source": [
    "### Function for Model Fit & Predict\n",
    "\n",
    "We will write a function for following functions. \n",
    "\n",
    "- Fit the model on train data\n",
    "- Perform cross-validation when needed\n",
    "- Predict on train and test data"
   ]
  },
  {
   "cell_type": "code",
   "execution_count": 25,
   "metadata": {
    "ExecuteTime": {
     "end_time": "2019-10-20T11:25:45.279788Z",
     "start_time": "2019-10-20T11:25:45.268727Z"
    }
   },
   "outputs": [],
   "source": [
    "from sklearn.model_selection import GridSearchCV\n",
    "\n",
    "def model_building(model, params = None, k = 1) :\n",
    "    \n",
    "    if params == None :\n",
    "        model.fit(X_train, y_train)\n",
    "        \n",
    "        # return fitted model & train-test predictions\n",
    "        return (model, model.predict(X_train), model.predict(X_test))\n",
    "    \n",
    "    else :\n",
    "        model_cv = GridSearchCV(model, param_grid = params, cv = k)\n",
    "        model_cv.fit(X_train, y_train)\n",
    "        model = model_cv.best_estimator_\n",
    "        \n",
    "        # return and extra object for all cross validation operations\n",
    "        return (model_cv, model, model.predict(X_train), model.predict(X_test))"
   ]
  },
  {
   "cell_type": "code",
   "execution_count": 26,
   "metadata": {
    "ExecuteTime": {
     "end_time": "2019-10-20T11:25:45.970085Z",
     "start_time": "2019-10-20T11:25:45.283929Z"
    },
    "scrolled": true
   },
   "outputs": [],
   "source": [
    "from sklearn.neighbors import KNeighborsClassifier\n",
    "\n",
    "knn = KNeighborsClassifier(algorithm = 'brute', n_neighbors = 3,\n",
    "                           metric = \"euclidean\")\n",
    "\n",
    "model, pred_train, pred_test = model_building(knn)"
   ]
  },
  {
   "cell_type": "markdown",
   "metadata": {},
   "source": [
    "### Function to Evaluate Model"
   ]
  },
  {
   "cell_type": "code",
   "execution_count": 27,
   "metadata": {
    "ExecuteTime": {
     "end_time": "2019-10-20T11:25:45.979623Z",
     "start_time": "2019-10-20T11:25:45.972226Z"
    }
   },
   "outputs": [],
   "source": [
    "from sklearn.metrics import confusion_matrix \n",
    "from sklearn.metrics import accuracy_score \n",
    "from sklearn.metrics import classification_report "
   ]
  },
  {
   "cell_type": "code",
   "execution_count": 28,
   "metadata": {
    "ExecuteTime": {
     "end_time": "2019-10-20T11:25:45.988289Z",
     "start_time": "2019-10-20T11:25:45.982721Z"
    }
   },
   "outputs": [],
   "source": [
    "def model_evaluation(actuals, predictions, report = False) :\n",
    "    \n",
    "    print('\\nConfusion Matrix :')\n",
    "    print(confusion_matrix(actuals, predictions) ) \n",
    "    \n",
    "    if report == True :\n",
    "        print('\\nReport : ')\n",
    "        print(classification_report(actuals, predictions))\n",
    "    \n",
    "    print('\\nAccuracy Score :', accuracy_score(actuals, predictions)) \n",
    "    print(\"------------------------------------------------------------------\")"
   ]
  },
  {
   "cell_type": "code",
   "execution_count": 29,
   "metadata": {
    "ExecuteTime": {
     "end_time": "2019-10-20T11:25:46.013522Z",
     "start_time": "2019-10-20T11:25:45.991930Z"
    },
    "scrolled": true
   },
   "outputs": [
    {
     "name": "stdout",
     "output_type": "stream",
     "text": [
      "\n",
      "Confusion Matrix :\n",
      "[[3548   69]\n",
      " [ 176  207]]\n",
      "\n",
      "Accuracy Score : 0.93875\n",
      "------------------------------------------------------------------\n",
      "\n",
      "Confusion Matrix :\n",
      "[[866  37]\n",
      " [ 68  29]]\n",
      "\n",
      "Accuracy Score : 0.895\n",
      "------------------------------------------------------------------\n"
     ]
    }
   ],
   "source": [
    "model_evaluation(y_train, pred_train,report=False)\n",
    "\n",
    "model_evaluation(y_test, pred_test)"
   ]
  },
  {
   "cell_type": "markdown",
   "metadata": {},
   "source": [
    "Knn is heavily impacted by standardisation. We have seen the result without standardising the data. Let us now see the result after standardisation."
   ]
  },
  {
   "cell_type": "code",
   "execution_count": 30,
   "metadata": {
    "ExecuteTime": {
     "end_time": "2019-10-20T11:25:46.039504Z",
     "start_time": "2019-10-20T11:25:46.016860Z"
    }
   },
   "outputs": [],
   "source": [
    "X_train, X_test, y_train, y_test = prepare_data(X, y, 0.2)"
   ]
  },
  {
   "cell_type": "code",
   "execution_count": 31,
   "metadata": {
    "ExecuteTime": {
     "end_time": "2019-10-20T11:25:47.012717Z",
     "start_time": "2019-10-20T11:25:46.042822Z"
    }
   },
   "outputs": [
    {
     "data": {
      "text/html": [
       "<div>\n",
       "<style scoped>\n",
       "    .dataframe tbody tr th:only-of-type {\n",
       "        vertical-align: middle;\n",
       "    }\n",
       "\n",
       "    .dataframe tbody tr th {\n",
       "        vertical-align: top;\n",
       "    }\n",
       "\n",
       "    .dataframe thead th {\n",
       "        text-align: right;\n",
       "    }\n",
       "</style>\n",
       "<table border=\"1\" class=\"dataframe\">\n",
       "  <thead>\n",
       "    <tr style=\"text-align: right;\">\n",
       "      <th></th>\n",
       "      <th>Age</th>\n",
       "      <th>Experience</th>\n",
       "      <th>Income</th>\n",
       "      <th>ZIP Code</th>\n",
       "      <th>Family</th>\n",
       "      <th>CCAvg</th>\n",
       "      <th>Mortgage</th>\n",
       "      <th>Education_2.0</th>\n",
       "      <th>Education_3.0</th>\n",
       "      <th>Securities Account_1.0</th>\n",
       "      <th>CD Account_1.0</th>\n",
       "      <th>Online_1.0</th>\n",
       "      <th>CreditCard_1.0</th>\n",
       "    </tr>\n",
       "    <tr>\n",
       "      <th>ID</th>\n",
       "      <th></th>\n",
       "      <th></th>\n",
       "      <th></th>\n",
       "      <th></th>\n",
       "      <th></th>\n",
       "      <th></th>\n",
       "      <th></th>\n",
       "      <th></th>\n",
       "      <th></th>\n",
       "      <th></th>\n",
       "      <th></th>\n",
       "      <th></th>\n",
       "      <th></th>\n",
       "    </tr>\n",
       "  </thead>\n",
       "  <tbody>\n",
       "    <tr>\n",
       "      <th>4878</th>\n",
       "      <td>0.675598</td>\n",
       "      <td>0.785072</td>\n",
       "      <td>-0.450864</td>\n",
       "      <td>-0.220171</td>\n",
       "      <td>1.409023</td>\n",
       "      <td>-1.052482</td>\n",
       "      <td>-0.552035</td>\n",
       "      <td>0</td>\n",
       "      <td>1</td>\n",
       "      <td>0</td>\n",
       "      <td>0</td>\n",
       "      <td>0</td>\n",
       "      <td>0</td>\n",
       "    </tr>\n",
       "    <tr>\n",
       "      <th>3191</th>\n",
       "      <td>0.937568</td>\n",
       "      <td>0.523054</td>\n",
       "      <td>0.004987</td>\n",
       "      <td>-0.816678</td>\n",
       "      <td>-1.208762</td>\n",
       "      <td>0.614004</td>\n",
       "      <td>-0.552035</td>\n",
       "      <td>0</td>\n",
       "      <td>1</td>\n",
       "      <td>0</td>\n",
       "      <td>0</td>\n",
       "      <td>0</td>\n",
       "      <td>0</td>\n",
       "    </tr>\n",
       "    <tr>\n",
       "      <th>2610</th>\n",
       "      <td>-0.284958</td>\n",
       "      <td>-0.175661</td>\n",
       "      <td>1.003519</td>\n",
       "      <td>0.124649</td>\n",
       "      <td>-0.336167</td>\n",
       "      <td>3.199930</td>\n",
       "      <td>-0.552035</td>\n",
       "      <td>0</td>\n",
       "      <td>0</td>\n",
       "      <td>1</td>\n",
       "      <td>0</td>\n",
       "      <td>0</td>\n",
       "      <td>0</td>\n",
       "    </tr>\n",
       "    <tr>\n",
       "      <th>1841</th>\n",
       "      <td>0.850245</td>\n",
       "      <td>0.435714</td>\n",
       "      <td>-1.102081</td>\n",
       "      <td>-0.012098</td>\n",
       "      <td>1.409023</td>\n",
       "      <td>-0.880087</td>\n",
       "      <td>0.315518</td>\n",
       "      <td>0</td>\n",
       "      <td>1</td>\n",
       "      <td>0</td>\n",
       "      <td>0</td>\n",
       "      <td>0</td>\n",
       "      <td>0</td>\n",
       "    </tr>\n",
       "    <tr>\n",
       "      <th>294</th>\n",
       "      <td>-0.022988</td>\n",
       "      <td>-0.088322</td>\n",
       "      <td>0.417424</td>\n",
       "      <td>-1.380020</td>\n",
       "      <td>1.409023</td>\n",
       "      <td>0.384144</td>\n",
       "      <td>-0.552035</td>\n",
       "      <td>0</td>\n",
       "      <td>1</td>\n",
       "      <td>0</td>\n",
       "      <td>0</td>\n",
       "      <td>0</td>\n",
       "      <td>0</td>\n",
       "    </tr>\n",
       "  </tbody>\n",
       "</table>\n",
       "</div>"
      ],
      "text/plain": [
       "           Age  Experience    Income  ZIP Code    Family     CCAvg  Mortgage  \\\n",
       "ID                                                                             \n",
       "4878  0.675598    0.785072 -0.450864 -0.220171  1.409023 -1.052482 -0.552035   \n",
       "3191  0.937568    0.523054  0.004987 -0.816678 -1.208762  0.614004 -0.552035   \n",
       "2610 -0.284958   -0.175661  1.003519  0.124649 -0.336167  3.199930 -0.552035   \n",
       "1841  0.850245    0.435714 -1.102081 -0.012098  1.409023 -0.880087  0.315518   \n",
       "294  -0.022988   -0.088322  0.417424 -1.380020  1.409023  0.384144 -0.552035   \n",
       "\n",
       "      Education_2.0  Education_3.0  Securities Account_1.0  CD Account_1.0  \\\n",
       "ID                                                                           \n",
       "4878              0              1                       0               0   \n",
       "3191              0              1                       0               0   \n",
       "2610              0              0                       1               0   \n",
       "1841              0              1                       0               0   \n",
       "294               0              1                       0               0   \n",
       "\n",
       "      Online_1.0  CreditCard_1.0  \n",
       "ID                                \n",
       "4878           0               0  \n",
       "3191           0               0  \n",
       "2610           0               0  \n",
       "1841           0               0  \n",
       "294            0               0  "
      ]
     },
     "execution_count": 31,
     "metadata": {},
     "output_type": "execute_result"
    }
   ],
   "source": [
    "X_train = preprocess_data(X_train,scale= True)\n",
    "X_train.head()"
   ]
  },
  {
   "cell_type": "code",
   "execution_count": 32,
   "metadata": {
    "ExecuteTime": {
     "end_time": "2019-10-20T11:25:47.974050Z",
     "start_time": "2019-10-20T11:25:47.015285Z"
    }
   },
   "outputs": [
    {
     "data": {
      "text/html": [
       "<div>\n",
       "<style scoped>\n",
       "    .dataframe tbody tr th:only-of-type {\n",
       "        vertical-align: middle;\n",
       "    }\n",
       "\n",
       "    .dataframe tbody tr th {\n",
       "        vertical-align: top;\n",
       "    }\n",
       "\n",
       "    .dataframe thead th {\n",
       "        text-align: right;\n",
       "    }\n",
       "</style>\n",
       "<table border=\"1\" class=\"dataframe\">\n",
       "  <thead>\n",
       "    <tr style=\"text-align: right;\">\n",
       "      <th></th>\n",
       "      <th>Age</th>\n",
       "      <th>Experience</th>\n",
       "      <th>Income</th>\n",
       "      <th>ZIP Code</th>\n",
       "      <th>Family</th>\n",
       "      <th>CCAvg</th>\n",
       "      <th>Mortgage</th>\n",
       "      <th>Education_2.0</th>\n",
       "      <th>Education_3.0</th>\n",
       "      <th>Securities Account_1.0</th>\n",
       "      <th>CD Account_1.0</th>\n",
       "      <th>Online_1.0</th>\n",
       "      <th>CreditCard_1.0</th>\n",
       "    </tr>\n",
       "    <tr>\n",
       "      <th>ID</th>\n",
       "      <th></th>\n",
       "      <th></th>\n",
       "      <th></th>\n",
       "      <th></th>\n",
       "      <th></th>\n",
       "      <th></th>\n",
       "      <th></th>\n",
       "      <th></th>\n",
       "      <th></th>\n",
       "      <th></th>\n",
       "      <th></th>\n",
       "      <th></th>\n",
       "      <th></th>\n",
       "    </tr>\n",
       "  </thead>\n",
       "  <tbody>\n",
       "    <tr>\n",
       "      <th>3499</th>\n",
       "      <td>-1.332837</td>\n",
       "      <td>-1.223734</td>\n",
       "      <td>2.349366</td>\n",
       "      <td>0.194612</td>\n",
       "      <td>1.409023</td>\n",
       "      <td>-0.650227</td>\n",
       "      <td>0.374670</td>\n",
       "      <td>0</td>\n",
       "      <td>1</td>\n",
       "      <td>0</td>\n",
       "      <td>0</td>\n",
       "      <td>1</td>\n",
       "      <td>0</td>\n",
       "    </tr>\n",
       "    <tr>\n",
       "      <th>902</th>\n",
       "      <td>1.024891</td>\n",
       "      <td>1.134429</td>\n",
       "      <td>-1.080373</td>\n",
       "      <td>1.128216</td>\n",
       "      <td>1.409023</td>\n",
       "      <td>-0.707692</td>\n",
       "      <td>-0.552035</td>\n",
       "      <td>0</td>\n",
       "      <td>0</td>\n",
       "      <td>0</td>\n",
       "      <td>0</td>\n",
       "      <td>1</td>\n",
       "      <td>0</td>\n",
       "    </tr>\n",
       "    <tr>\n",
       "      <th>1513</th>\n",
       "      <td>0.675598</td>\n",
       "      <td>0.697732</td>\n",
       "      <td>-0.646229</td>\n",
       "      <td>-0.694469</td>\n",
       "      <td>0.536428</td>\n",
       "      <td>-0.133042</td>\n",
       "      <td>-0.552035</td>\n",
       "      <td>0</td>\n",
       "      <td>0</td>\n",
       "      <td>0</td>\n",
       "      <td>0</td>\n",
       "      <td>0</td>\n",
       "      <td>0</td>\n",
       "    </tr>\n",
       "    <tr>\n",
       "      <th>1496</th>\n",
       "      <td>0.588275</td>\n",
       "      <td>0.697732</td>\n",
       "      <td>2.262537</td>\n",
       "      <td>-0.220625</td>\n",
       "      <td>0.536428</td>\n",
       "      <td>1.993164</td>\n",
       "      <td>0.897174</td>\n",
       "      <td>0</td>\n",
       "      <td>1</td>\n",
       "      <td>0</td>\n",
       "      <td>0</td>\n",
       "      <td>1</td>\n",
       "      <td>0</td>\n",
       "    </tr>\n",
       "    <tr>\n",
       "      <th>4153</th>\n",
       "      <td>-0.110311</td>\n",
       "      <td>-0.175661</td>\n",
       "      <td>0.374010</td>\n",
       "      <td>-0.804866</td>\n",
       "      <td>-0.336167</td>\n",
       "      <td>-0.650227</td>\n",
       "      <td>-0.552035</td>\n",
       "      <td>0</td>\n",
       "      <td>1</td>\n",
       "      <td>0</td>\n",
       "      <td>0</td>\n",
       "      <td>1</td>\n",
       "      <td>0</td>\n",
       "    </tr>\n",
       "  </tbody>\n",
       "</table>\n",
       "</div>"
      ],
      "text/plain": [
       "           Age  Experience    Income  ZIP Code    Family     CCAvg  Mortgage  \\\n",
       "ID                                                                             \n",
       "3499 -1.332837   -1.223734  2.349366  0.194612  1.409023 -0.650227  0.374670   \n",
       "902   1.024891    1.134429 -1.080373  1.128216  1.409023 -0.707692 -0.552035   \n",
       "1513  0.675598    0.697732 -0.646229 -0.694469  0.536428 -0.133042 -0.552035   \n",
       "1496  0.588275    0.697732  2.262537 -0.220625  0.536428  1.993164  0.897174   \n",
       "4153 -0.110311   -0.175661  0.374010 -0.804866 -0.336167 -0.650227 -0.552035   \n",
       "\n",
       "      Education_2.0  Education_3.0  Securities Account_1.0  CD Account_1.0  \\\n",
       "ID                                                                           \n",
       "3499              0              1                       0               0   \n",
       "902               0              0                       0               0   \n",
       "1513              0              0                       0               0   \n",
       "1496              0              1                       0               0   \n",
       "4153              0              1                       0               0   \n",
       "\n",
       "      Online_1.0  CreditCard_1.0  \n",
       "ID                                \n",
       "3499           1               0  \n",
       "902            1               0  \n",
       "1513           0               0  \n",
       "1496           1               0  \n",
       "4153           1               0  "
      ]
     },
     "execution_count": 32,
     "metadata": {},
     "output_type": "execute_result"
    }
   ],
   "source": [
    "X_test = preprocess_data(X_test, scale=True)\n",
    "X_test.head()"
   ]
  },
  {
   "cell_type": "markdown",
   "metadata": {},
   "source": [
    "## Build Knn Model"
   ]
  },
  {
   "cell_type": "code",
   "execution_count": 33,
   "metadata": {
    "ExecuteTime": {
     "end_time": "2019-10-20T11:25:48.706897Z",
     "start_time": "2019-10-20T11:25:47.980088Z"
    }
   },
   "outputs": [],
   "source": [
    "knn_2 = KNeighborsClassifier(algorithm = 'brute', n_neighbors = 5, metric = \"euclidean\")\n",
    "\n",
    "model_2, pred_train_2, pred_test_2 = model_building(knn_2)"
   ]
  },
  {
   "cell_type": "code",
   "execution_count": 34,
   "metadata": {
    "ExecuteTime": {
     "end_time": "2019-10-20T11:25:48.724998Z",
     "start_time": "2019-10-20T11:25:48.709023Z"
    },
    "scrolled": false
   },
   "outputs": [
    {
     "name": "stdout",
     "output_type": "stream",
     "text": [
      "\n",
      "Confusion Matrix :\n",
      "[[3600    3]\n",
      " [ 152  245]]\n",
      "\n",
      "Accuracy Score : 0.96125\n",
      "------------------------------------------------------------------\n",
      "\n",
      "Confusion Matrix :\n",
      "[[915   2]\n",
      " [ 46  37]]\n",
      "\n",
      "Accuracy Score : 0.952\n",
      "------------------------------------------------------------------\n"
     ]
    }
   ],
   "source": [
    "model_evaluation(y_train, pred_train_2)\n",
    "\n",
    "model_evaluation(y_test, pred_test_2)"
   ]
  },
  {
   "cell_type": "markdown",
   "metadata": {},
   "source": [
    "> We can see that simply by standardising the data our test accuracy increased by approximately 5%."
   ]
  },
  {
   "cell_type": "markdown",
   "metadata": {},
   "source": [
    "### Edited Knn\n",
    "\n",
    "___\n",
    "\n",
    "Implementation based on Wilson's editing technique.\n",
    "\n",
    "This removes the outlier points in Knn. \n",
    "\n",
    "> Outlier in Knn is a point which has a different target w.r.t. other similar points."
   ]
  },
  {
   "cell_type": "code",
   "execution_count": 35,
   "metadata": {
    "ExecuteTime": {
     "end_time": "2019-10-20T11:25:48.733398Z",
     "start_time": "2019-10-20T11:25:48.727713Z"
    }
   },
   "outputs": [],
   "source": [
    "#!pip install imblearn\n",
    "\n",
    "## imblearn uses Tensorflow at the backend.So install Tensorflow using:\n",
    "\n",
    "#!pip install Tensorflow"
   ]
  },
  {
   "cell_type": "code",
   "execution_count": 36,
   "metadata": {
    "ExecuteTime": {
     "end_time": "2019-10-20T11:25:50.708141Z",
     "start_time": "2019-10-20T11:25:48.736699Z"
    },
    "scrolled": true
   },
   "outputs": [
    {
     "name": "stderr",
     "output_type": "stream",
     "text": [
      "Using TensorFlow backend.\n"
     ]
    },
    {
     "name": "stdout",
     "output_type": "stream",
     "text": [
      "(3843, 13)\n"
     ]
    }
   ],
   "source": [
    "from imblearn.under_sampling import EditedNearestNeighbours\n",
    "\n",
    "eknn = EditedNearestNeighbours()\n",
    "\n",
    "X_res_eknn, y_res_eknn = eknn.fit_resample(X_train, y_train) \n",
    "\n",
    "print(X_res_eknn.shape)"
   ]
  },
  {
   "cell_type": "markdown",
   "metadata": {},
   "source": [
    "For the given data, around 140 outliers points are removed."
   ]
  },
  {
   "cell_type": "code",
   "execution_count": 37,
   "metadata": {
    "ExecuteTime": {
     "end_time": "2019-10-20T11:25:50.874524Z",
     "start_time": "2019-10-20T11:25:50.710764Z"
    },
    "scrolled": true
   },
   "outputs": [
    {
     "name": "stdout",
     "output_type": "stream",
     "text": [
      "[[905  38]\n",
      " [ 12  45]]\n"
     ]
    },
    {
     "data": {
      "text/plain": [
       "0.95"
      ]
     },
     "execution_count": 37,
     "metadata": {},
     "output_type": "execute_result"
    }
   ],
   "source": [
    "# fit the knn classifier on the reduced data\n",
    "eknn = model.fit(X_res_eknn, y_res_eknn)\n",
    "\n",
    "pred_test = model.predict(X_test)\n",
    "\n",
    "print(confusion_matrix(pred_test, y_test))\n",
    "\n",
    "accuracy_score(y_test,pred_test)"
   ]
  },
  {
   "cell_type": "markdown",
   "metadata": {},
   "source": [
    "### Condensed Knn\n",
    "\n",
    "___\n",
    "\n",
    "These removes points which do not help in prediction and keeps only the points that help in building the decision boundary.\n",
    "\n",
    "> This technique takes more time in training but testing time reduces as many points are dropped."
   ]
  },
  {
   "cell_type": "code",
   "execution_count": 38,
   "metadata": {
    "ExecuteTime": {
     "end_time": "2019-10-20T11:26:38.187878Z",
     "start_time": "2019-10-20T11:25:50.878087Z"
    },
    "scrolled": false
   },
   "outputs": [
    {
     "name": "stdout",
     "output_type": "stream",
     "text": [
      "(750, 13)\n"
     ]
    }
   ],
   "source": [
    "from imblearn.under_sampling import CondensedNearestNeighbour\n",
    "\n",
    "cknn = CondensedNearestNeighbour()\n",
    "\n",
    "X_res_cknn, y_res_cknn = cknn.fit_resample(X_train, y_train) \n",
    "\n",
    "print(X_res_cknn.shape)"
   ]
  },
  {
   "cell_type": "code",
   "execution_count": 39,
   "metadata": {
    "ExecuteTime": {
     "end_time": "2019-10-20T11:26:38.278592Z",
     "start_time": "2019-10-20T11:26:38.191042Z"
    },
    "scrolled": true
   },
   "outputs": [
    {
     "name": "stdout",
     "output_type": "stream",
     "text": [
      "[[886  20]\n",
      " [ 31  63]]\n"
     ]
    },
    {
     "data": {
      "text/plain": [
       "0.949"
      ]
     },
     "execution_count": 39,
     "metadata": {},
     "output_type": "execute_result"
    }
   ],
   "source": [
    "# fit the knn classifier on the condensed data\n",
    "cknn = model.fit(X_res_cknn, y_res_cknn)\n",
    "\n",
    "pred_test = model.predict(X_test)\n",
    "\n",
    "print(confusion_matrix(pred_test, y_test))\n",
    "\n",
    "accuracy_score(y_test,pred_test)"
   ]
  },
  {
   "cell_type": "markdown",
   "metadata": {},
   "source": [
    "For the given data, around 3300 points are dropped yet the accuracy has not suffered much."
   ]
  },
  {
   "cell_type": "markdown",
   "metadata": {},
   "source": [
    "## Choosing the best K using Elbow Curve\n",
    "\n",
    "___"
   ]
  },
  {
   "cell_type": "code",
   "execution_count": 40,
   "metadata": {
    "ExecuteTime": {
     "end_time": "2019-10-20T11:26:41.595480Z",
     "start_time": "2019-10-20T11:26:38.283516Z"
    }
   },
   "outputs": [
    {
     "name": "stdout",
     "output_type": "stream",
     "text": [
      "K ->  1 Error ->  0.04700000000000004\n",
      "K ->  3 Error ->  0.04300000000000004\n",
      "K ->  5 Error ->  0.04800000000000004\n",
      "K ->  7 Error ->  0.04700000000000004\n",
      "K ->  9 Error ->  0.04800000000000004\n",
      "K ->  11 Error ->  0.049000000000000044\n",
      "K ->  13 Error ->  0.050000000000000044\n"
     ]
    }
   ],
   "source": [
    "err = []\n",
    "k_val = []\n",
    "\n",
    "# try K = 1 through K = 15\n",
    "for k in range(1, 15, 2):\n",
    "    \n",
    "    knn = KNeighborsClassifier(n_neighbors = k)\n",
    "    \n",
    "    model_3, pred_train_3, pred_test_3 = model_building(knn)\n",
    "\n",
    "    e = 1 - accuracy_score(y_test, pred_test_3)\n",
    "    print('K -> ', k, 'Error -> ', e)\n",
    "    \n",
    "    err.append(e)\n",
    "    k_val.append(k)\n",
    "    "
   ]
  },
  {
   "cell_type": "code",
   "execution_count": 41,
   "metadata": {
    "ExecuteTime": {
     "end_time": "2019-10-20T11:26:41.784961Z",
     "start_time": "2019-10-20T11:26:41.601246Z"
    },
    "scrolled": true
   },
   "outputs": [
    {
     "data": {
      "text/plain": [
       "Text(0, 0.5, 'Error on test data')"
      ]
     },
     "execution_count": 41,
     "metadata": {},
     "output_type": "execute_result"
    },
    {
     "data": {
      "image/png": "[encoded data removed]",
      "text/plain": [
       "<Figure size 432x288 with 1 Axes>"
      ]
     },
     "metadata": {
      "needs_background": "light"
     },
     "output_type": "display_data"
    }
   ],
   "source": [
    "plt.plot(k_val, err)\n",
    "plt.xlabel('Value of K for KNN')\n",
    "plt.ylabel('Error on test data')"
   ]
  },
  {
   "cell_type": "markdown",
   "metadata": {},
   "source": [
    "Build Knn Model with best k value from elbow curve."
   ]
  },
  {
   "cell_type": "code",
   "execution_count": 47,
   "metadata": {
    "ExecuteTime": {
     "end_time": "2019-10-20T11:30:24.963771Z",
     "start_time": "2019-10-20T11:30:24.484218Z"
    },
    "scrolled": true
   },
   "outputs": [],
   "source": [
    "from sklearn.neighbors import KNeighborsClassifier\n",
    "\n",
    "model = KNeighborsClassifier(n_neighbors = 3)\n",
    "\n",
    "model_4, pred_train_4, pred_test_4 = model_building(knn)"
   ]
  },
  {
   "cell_type": "code",
   "execution_count": 48,
   "metadata": {
    "ExecuteTime": {
     "end_time": "2019-10-20T11:30:25.487405Z",
     "start_time": "2019-10-20T11:30:25.469249Z"
    }
   },
   "outputs": [
    {
     "name": "stdout",
     "output_type": "stream",
     "text": [
      "\n",
      "Confusion Matrix :\n",
      "[[3601    2]\n",
      " [ 229  168]]\n",
      "\n",
      "Accuracy Score : 0.94225\n",
      "------------------------------------------------------------------\n",
      "\n",
      "Confusion Matrix :\n",
      "[[917   0]\n",
      " [ 50  33]]\n",
      "\n",
      "Accuracy Score : 0.95\n",
      "------------------------------------------------------------------\n"
     ]
    }
   ],
   "source": [
    "model_evaluation(y_train, pred_train_4)\n",
    "\n",
    "model_evaluation(y_test, pred_test_4)"
   ]
  },
  {
   "cell_type": "markdown",
   "metadata": {},
   "source": [
    "## Knn Classifier with Grid Search Crossvalidation \n",
    "___\n",
    "\n",
    "> Hyper-parameter tuning"
   ]
  },
  {
   "cell_type": "code",
   "execution_count": 44,
   "metadata": {
    "ExecuteTime": {
     "end_time": "2019-10-20T11:26:44.987379Z",
     "start_time": "2019-10-20T11:26:42.322738Z"
    }
   },
   "outputs": [],
   "source": [
    "params = {\"n_neighbors\": [2, 5, 9],\n",
    "          \"metric\": [\"euclidean\", \"cityblock\"]}\n",
    "\n",
    "knn_5 = KNeighborsClassifier(algorithm = \"brute\", weights = \"distance\")\n",
    "\n",
    "model_cv, model_5, pred_train_5, pred_test_5 = model_building(knn_5, params, 10)"
   ]
  },
  {
   "cell_type": "code",
   "execution_count": 45,
   "metadata": {
    "ExecuteTime": {
     "end_time": "2019-10-20T11:26:44.993475Z",
     "start_time": "2019-10-20T11:26:44.989349Z"
    }
   },
   "outputs": [
    {
     "data": {
      "text/plain": [
       "{'metric': 'cityblock', 'n_neighbors': 2}"
      ]
     },
     "execution_count": 45,
     "metadata": {},
     "output_type": "execute_result"
    }
   ],
   "source": [
    "model_cv.best_params_"
   ]
  },
  {
   "cell_type": "code",
   "execution_count": 46,
   "metadata": {
    "ExecuteTime": {
     "end_time": "2019-10-20T11:26:45.017854Z",
     "start_time": "2019-10-20T11:26:44.998473Z"
    }
   },
   "outputs": [
    {
     "name": "stdout",
     "output_type": "stream",
     "text": [
      "\n",
      "Confusion Matrix :\n",
      "[[3603    0]\n",
      " [   0  397]]\n",
      "\n",
      "Accuracy Score : 1.0\n",
      "------------------------------------------------------------------\n",
      "\n",
      "Confusion Matrix :\n",
      "[[907  10]\n",
      " [ 37  46]]\n",
      "\n",
      "Accuracy Score : 0.953\n",
      "------------------------------------------------------------------\n"
     ]
    }
   ],
   "source": [
    "model_evaluation(y_train, pred_train_5)\n",
    "\n",
    "model_evaluation(y_test, pred_test_5)"
   ]
  },
  {
   "cell_type": "markdown",
   "metadata": {},
   "source": [
    "___"
   ]
  }
 ],
 "metadata": {
  "kernelspec": {
   "display_name": "Python 3",
   "language": "python",
   "name": "python3"
  },
  "language_info": {
   "codemirror_mode": {
    "name": "ipython",
    "version": 3
   },
   "file_extension": ".py",
   "mimetype": "text/x-python",
   "name": "python",
   "nbconvert_exporter": "python",
   "pygments_lexer": "ipython3",
   "version": "3.8.5"
  },
  "toc": {
   "base_numbering": 1,
   "nav_menu": {},
   "number_sections": true,
   "sideBar": true,
   "skip_h1_title": false,
   "title_cell": "Table of Contents",
   "title_sidebar": "Contents",
   "toc_cell": true,
   "toc_position": {},
   "toc_section_display": true,
   "toc_window_display": false
  }
 },
 "nbformat": 4,
 "nbformat_minor": 2
}
